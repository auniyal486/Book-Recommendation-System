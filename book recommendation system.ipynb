{
 "cells": [
  {
   "cell_type": "code",
   "execution_count": 1,
   "id": "41e4dbc4",
   "metadata": {},
   "outputs": [],
   "source": [
    "import pandas as pd\n",
    "import numpy as np\n",
    "import matplotlib.pyplot as plt\n",
    "import warnings\n",
    "warnings.filterwarnings('ignore')\n",
    "%matplotlib inline"
   ]
  },
  {
   "cell_type": "markdown",
   "id": "cd230f58",
   "metadata": {},
   "source": [
    "# Feature engineering"
   ]
  },
  {
   "cell_type": "code",
   "execution_count": 2,
   "id": "a2afec24",
   "metadata": {},
   "outputs": [],
   "source": [
    "df1=pd.read_csv(\"C:/Users/abhis/data/machine learning/books data/books.csv\",sep=\",\")"
   ]
  },
  {
   "cell_type": "code",
   "execution_count": 3,
   "id": "6645fe9a",
   "metadata": {},
   "outputs": [],
   "source": [
    "df2=pd.read_csv(\"C:/Users/abhis/data/machine learning/books data/ratings.csv\",sep=\",\")"
   ]
  },
  {
   "cell_type": "code",
   "execution_count": 4,
   "id": "4ffa9b7b",
   "metadata": {},
   "outputs": [
    {
     "data": {
      "text/html": [
       "<div>\n",
       "<style scoped>\n",
       "    .dataframe tbody tr th:only-of-type {\n",
       "        vertical-align: middle;\n",
       "    }\n",
       "\n",
       "    .dataframe tbody tr th {\n",
       "        vertical-align: top;\n",
       "    }\n",
       "\n",
       "    .dataframe thead th {\n",
       "        text-align: right;\n",
       "    }\n",
       "</style>\n",
       "<table border=\"1\" class=\"dataframe\">\n",
       "  <thead>\n",
       "    <tr style=\"text-align: right;\">\n",
       "      <th></th>\n",
       "      <th>id</th>\n",
       "      <th>book_id</th>\n",
       "      <th>best_book_id</th>\n",
       "      <th>work_id</th>\n",
       "      <th>books_count</th>\n",
       "      <th>isbn</th>\n",
       "      <th>isbn13</th>\n",
       "      <th>authors</th>\n",
       "      <th>original_publication_year</th>\n",
       "      <th>original_title</th>\n",
       "      <th>...</th>\n",
       "      <th>ratings_count</th>\n",
       "      <th>work_ratings_count</th>\n",
       "      <th>work_text_reviews_count</th>\n",
       "      <th>ratings_1</th>\n",
       "      <th>ratings_2</th>\n",
       "      <th>ratings_3</th>\n",
       "      <th>ratings_4</th>\n",
       "      <th>ratings_5</th>\n",
       "      <th>image_url</th>\n",
       "      <th>small_image_url</th>\n",
       "    </tr>\n",
       "  </thead>\n",
       "  <tbody>\n",
       "    <tr>\n",
       "      <th>0</th>\n",
       "      <td>1</td>\n",
       "      <td>2767052</td>\n",
       "      <td>2767052</td>\n",
       "      <td>2792775</td>\n",
       "      <td>272</td>\n",
       "      <td>439023483</td>\n",
       "      <td>9.780439e+12</td>\n",
       "      <td>Suzanne Collins</td>\n",
       "      <td>2008.0</td>\n",
       "      <td>The Hunger Games</td>\n",
       "      <td>...</td>\n",
       "      <td>4780653</td>\n",
       "      <td>4942365</td>\n",
       "      <td>155254</td>\n",
       "      <td>66715</td>\n",
       "      <td>127936</td>\n",
       "      <td>560092</td>\n",
       "      <td>1481305</td>\n",
       "      <td>2706317</td>\n",
       "      <td>https://images.gr-assets.com/books/1447303603m...</td>\n",
       "      <td>https://images.gr-assets.com/books/1447303603s...</td>\n",
       "    </tr>\n",
       "    <tr>\n",
       "      <th>1</th>\n",
       "      <td>2</td>\n",
       "      <td>3</td>\n",
       "      <td>3</td>\n",
       "      <td>4640799</td>\n",
       "      <td>491</td>\n",
       "      <td>439554934</td>\n",
       "      <td>9.780440e+12</td>\n",
       "      <td>J.K. Rowling, Mary GrandPré</td>\n",
       "      <td>1997.0</td>\n",
       "      <td>Harry Potter and the Philosopher's Stone</td>\n",
       "      <td>...</td>\n",
       "      <td>4602479</td>\n",
       "      <td>4800065</td>\n",
       "      <td>75867</td>\n",
       "      <td>75504</td>\n",
       "      <td>101676</td>\n",
       "      <td>455024</td>\n",
       "      <td>1156318</td>\n",
       "      <td>3011543</td>\n",
       "      <td>https://images.gr-assets.com/books/1474154022m...</td>\n",
       "      <td>https://images.gr-assets.com/books/1474154022s...</td>\n",
       "    </tr>\n",
       "  </tbody>\n",
       "</table>\n",
       "<p>2 rows × 23 columns</p>\n",
       "</div>"
      ],
      "text/plain": [
       "   id  book_id  best_book_id  work_id  books_count       isbn        isbn13  \\\n",
       "0   1  2767052       2767052  2792775          272  439023483  9.780439e+12   \n",
       "1   2        3             3  4640799          491  439554934  9.780440e+12   \n",
       "\n",
       "                       authors  original_publication_year  \\\n",
       "0              Suzanne Collins                     2008.0   \n",
       "1  J.K. Rowling, Mary GrandPré                     1997.0   \n",
       "\n",
       "                             original_title  ... ratings_count  \\\n",
       "0                          The Hunger Games  ...       4780653   \n",
       "1  Harry Potter and the Philosopher's Stone  ...       4602479   \n",
       "\n",
       "  work_ratings_count  work_text_reviews_count  ratings_1  ratings_2  \\\n",
       "0            4942365                   155254      66715     127936   \n",
       "1            4800065                    75867      75504     101676   \n",
       "\n",
       "   ratings_3  ratings_4  ratings_5  \\\n",
       "0     560092    1481305    2706317   \n",
       "1     455024    1156318    3011543   \n",
       "\n",
       "                                           image_url  \\\n",
       "0  https://images.gr-assets.com/books/1447303603m...   \n",
       "1  https://images.gr-assets.com/books/1474154022m...   \n",
       "\n",
       "                                     small_image_url  \n",
       "0  https://images.gr-assets.com/books/1447303603s...  \n",
       "1  https://images.gr-assets.com/books/1474154022s...  \n",
       "\n",
       "[2 rows x 23 columns]"
      ]
     },
     "execution_count": 4,
     "metadata": {},
     "output_type": "execute_result"
    }
   ],
   "source": [
    "df1.head(2)"
   ]
  },
  {
   "cell_type": "code",
   "execution_count": 5,
   "id": "0512c2d3",
   "metadata": {},
   "outputs": [],
   "source": [
    "df1=df1[[\"id\",\"original_title\",\"original_publication_year\",\"authors\"]]"
   ]
  },
  {
   "cell_type": "code",
   "execution_count": 6,
   "id": "451b3527",
   "metadata": {},
   "outputs": [],
   "source": [
    "df1.rename(columns={'id': 'book_id',\"original_title\":\"title\",\"original_publication_year\":\"year\",\"authors\":\"author\"}, inplace=True)"
   ]
  },
  {
   "cell_type": "code",
   "execution_count": 7,
   "id": "30b3ce1b",
   "metadata": {},
   "outputs": [
    {
     "data": {
      "text/html": [
       "<div>\n",
       "<style scoped>\n",
       "    .dataframe tbody tr th:only-of-type {\n",
       "        vertical-align: middle;\n",
       "    }\n",
       "\n",
       "    .dataframe tbody tr th {\n",
       "        vertical-align: top;\n",
       "    }\n",
       "\n",
       "    .dataframe thead th {\n",
       "        text-align: right;\n",
       "    }\n",
       "</style>\n",
       "<table border=\"1\" class=\"dataframe\">\n",
       "  <thead>\n",
       "    <tr style=\"text-align: right;\">\n",
       "      <th></th>\n",
       "      <th>book_id</th>\n",
       "      <th>title</th>\n",
       "      <th>year</th>\n",
       "      <th>author</th>\n",
       "    </tr>\n",
       "  </thead>\n",
       "  <tbody>\n",
       "    <tr>\n",
       "      <th>0</th>\n",
       "      <td>1</td>\n",
       "      <td>The Hunger Games</td>\n",
       "      <td>2008.0</td>\n",
       "      <td>Suzanne Collins</td>\n",
       "    </tr>\n",
       "    <tr>\n",
       "      <th>1</th>\n",
       "      <td>2</td>\n",
       "      <td>Harry Potter and the Philosopher's Stone</td>\n",
       "      <td>1997.0</td>\n",
       "      <td>J.K. Rowling, Mary GrandPré</td>\n",
       "    </tr>\n",
       "    <tr>\n",
       "      <th>2</th>\n",
       "      <td>3</td>\n",
       "      <td>Twilight</td>\n",
       "      <td>2005.0</td>\n",
       "      <td>Stephenie Meyer</td>\n",
       "    </tr>\n",
       "    <tr>\n",
       "      <th>3</th>\n",
       "      <td>4</td>\n",
       "      <td>To Kill a Mockingbird</td>\n",
       "      <td>1960.0</td>\n",
       "      <td>Harper Lee</td>\n",
       "    </tr>\n",
       "    <tr>\n",
       "      <th>4</th>\n",
       "      <td>5</td>\n",
       "      <td>The Great Gatsby</td>\n",
       "      <td>1925.0</td>\n",
       "      <td>F. Scott Fitzgerald</td>\n",
       "    </tr>\n",
       "  </tbody>\n",
       "</table>\n",
       "</div>"
      ],
      "text/plain": [
       "   book_id                                     title    year  \\\n",
       "0        1                          The Hunger Games  2008.0   \n",
       "1        2  Harry Potter and the Philosopher's Stone  1997.0   \n",
       "2        3                                  Twilight  2005.0   \n",
       "3        4                     To Kill a Mockingbird  1960.0   \n",
       "4        5                          The Great Gatsby  1925.0   \n",
       "\n",
       "                        author  \n",
       "0              Suzanne Collins  \n",
       "1  J.K. Rowling, Mary GrandPré  \n",
       "2              Stephenie Meyer  \n",
       "3                   Harper Lee  \n",
       "4          F. Scott Fitzgerald  "
      ]
     },
     "execution_count": 7,
     "metadata": {},
     "output_type": "execute_result"
    }
   ],
   "source": [
    "df1.head()"
   ]
  },
  {
   "cell_type": "code",
   "execution_count": 8,
   "id": "9a1f6472",
   "metadata": {},
   "outputs": [
    {
     "data": {
      "text/plain": [
       "123"
      ]
     },
     "execution_count": 8,
     "metadata": {},
     "output_type": "execute_result"
    }
   ],
   "source": [
    "sum(df1[\"title\"].value_counts()>1)"
   ]
  },
  {
   "cell_type": "code",
   "execution_count": 9,
   "id": "623731d1",
   "metadata": {},
   "outputs": [],
   "source": [
    "df1.drop_duplicates(subset=[\"title\"],keep=\"last\",inplace=True)"
   ]
  },
  {
   "cell_type": "code",
   "execution_count": 10,
   "id": "af80f1d6",
   "metadata": {},
   "outputs": [],
   "source": [
    "df1.reset_index(drop=True,inplace=True)"
   ]
  },
  {
   "cell_type": "code",
   "execution_count": 11,
   "id": "3c590c66",
   "metadata": {},
   "outputs": [
    {
     "data": {
      "text/html": [
       "<div>\n",
       "<style scoped>\n",
       "    .dataframe tbody tr th:only-of-type {\n",
       "        vertical-align: middle;\n",
       "    }\n",
       "\n",
       "    .dataframe tbody tr th {\n",
       "        vertical-align: top;\n",
       "    }\n",
       "\n",
       "    .dataframe thead th {\n",
       "        text-align: right;\n",
       "    }\n",
       "</style>\n",
       "<table border=\"1\" class=\"dataframe\">\n",
       "  <thead>\n",
       "    <tr style=\"text-align: right;\">\n",
       "      <th></th>\n",
       "      <th>book_id</th>\n",
       "      <th>title</th>\n",
       "      <th>year</th>\n",
       "      <th>author</th>\n",
       "    </tr>\n",
       "  </thead>\n",
       "  <tbody>\n",
       "    <tr>\n",
       "      <th>0</th>\n",
       "      <td>1</td>\n",
       "      <td>The Hunger Games</td>\n",
       "      <td>2008.0</td>\n",
       "      <td>Suzanne Collins</td>\n",
       "    </tr>\n",
       "    <tr>\n",
       "      <th>1</th>\n",
       "      <td>2</td>\n",
       "      <td>Harry Potter and the Philosopher's Stone</td>\n",
       "      <td>1997.0</td>\n",
       "      <td>J.K. Rowling, Mary GrandPré</td>\n",
       "    </tr>\n",
       "    <tr>\n",
       "      <th>2</th>\n",
       "      <td>4</td>\n",
       "      <td>To Kill a Mockingbird</td>\n",
       "      <td>1960.0</td>\n",
       "      <td>Harper Lee</td>\n",
       "    </tr>\n",
       "    <tr>\n",
       "      <th>3</th>\n",
       "      <td>5</td>\n",
       "      <td>The Great Gatsby</td>\n",
       "      <td>1925.0</td>\n",
       "      <td>F. Scott Fitzgerald</td>\n",
       "    </tr>\n",
       "    <tr>\n",
       "      <th>4</th>\n",
       "      <td>6</td>\n",
       "      <td>The Fault in Our Stars</td>\n",
       "      <td>2012.0</td>\n",
       "      <td>John Green</td>\n",
       "    </tr>\n",
       "  </tbody>\n",
       "</table>\n",
       "</div>"
      ],
      "text/plain": [
       "   book_id                                     title    year  \\\n",
       "0        1                          The Hunger Games  2008.0   \n",
       "1        2  Harry Potter and the Philosopher's Stone  1997.0   \n",
       "2        4                     To Kill a Mockingbird  1960.0   \n",
       "3        5                          The Great Gatsby  1925.0   \n",
       "4        6                    The Fault in Our Stars  2012.0   \n",
       "\n",
       "                        author  \n",
       "0              Suzanne Collins  \n",
       "1  J.K. Rowling, Mary GrandPré  \n",
       "2                   Harper Lee  \n",
       "3          F. Scott Fitzgerald  \n",
       "4                   John Green  "
      ]
     },
     "execution_count": 11,
     "metadata": {},
     "output_type": "execute_result"
    }
   ],
   "source": [
    "df1.head()"
   ]
  },
  {
   "cell_type": "code",
   "execution_count": 12,
   "id": "4a26bc13",
   "metadata": {},
   "outputs": [
    {
     "data": {
      "text/html": [
       "<div>\n",
       "<style scoped>\n",
       "    .dataframe tbody tr th:only-of-type {\n",
       "        vertical-align: middle;\n",
       "    }\n",
       "\n",
       "    .dataframe tbody tr th {\n",
       "        vertical-align: top;\n",
       "    }\n",
       "\n",
       "    .dataframe thead th {\n",
       "        text-align: right;\n",
       "    }\n",
       "</style>\n",
       "<table border=\"1\" class=\"dataframe\">\n",
       "  <thead>\n",
       "    <tr style=\"text-align: right;\">\n",
       "      <th></th>\n",
       "      <th>book_id</th>\n",
       "      <th>user_id</th>\n",
       "      <th>rating</th>\n",
       "    </tr>\n",
       "  </thead>\n",
       "  <tbody>\n",
       "    <tr>\n",
       "      <th>0</th>\n",
       "      <td>1</td>\n",
       "      <td>314</td>\n",
       "      <td>5</td>\n",
       "    </tr>\n",
       "    <tr>\n",
       "      <th>1</th>\n",
       "      <td>1</td>\n",
       "      <td>439</td>\n",
       "      <td>3</td>\n",
       "    </tr>\n",
       "    <tr>\n",
       "      <th>2</th>\n",
       "      <td>1</td>\n",
       "      <td>588</td>\n",
       "      <td>5</td>\n",
       "    </tr>\n",
       "    <tr>\n",
       "      <th>3</th>\n",
       "      <td>1</td>\n",
       "      <td>1169</td>\n",
       "      <td>4</td>\n",
       "    </tr>\n",
       "    <tr>\n",
       "      <th>4</th>\n",
       "      <td>1</td>\n",
       "      <td>1185</td>\n",
       "      <td>4</td>\n",
       "    </tr>\n",
       "  </tbody>\n",
       "</table>\n",
       "</div>"
      ],
      "text/plain": [
       "   book_id  user_id  rating\n",
       "0        1      314       5\n",
       "1        1      439       3\n",
       "2        1      588       5\n",
       "3        1     1169       4\n",
       "4        1     1185       4"
      ]
     },
     "execution_count": 12,
     "metadata": {},
     "output_type": "execute_result"
    }
   ],
   "source": [
    "# df2 work\n",
    "df2.head()"
   ]
  },
  {
   "cell_type": "code",
   "execution_count": 13,
   "id": "114e00d9",
   "metadata": {},
   "outputs": [
    {
     "data": {
      "text/plain": [
       "<AxesSubplot:>"
      ]
     },
     "execution_count": 13,
     "metadata": {},
     "output_type": "execute_result"
    },
    {
     "data": {
      "image/png": "[encoded data removed]",
      "text/plain": [
       "<Figure size 432x288 with 1 Axes>"
      ]
     },
     "metadata": {
      "needs_background": "light"
     },
     "output_type": "display_data"
    }
   ],
   "source": [
    "df2[\"rating\"].hist()"
   ]
  },
  {
   "cell_type": "code",
   "execution_count": 14,
   "id": "298d5f7b",
   "metadata": {},
   "outputs": [
    {
     "data": {
      "text/plain": [
       "10000"
      ]
     },
     "execution_count": 14,
     "metadata": {},
     "output_type": "execute_result"
    }
   ],
   "source": [
    "df2[\"book_id\"].max()"
   ]
  },
  {
   "cell_type": "code",
   "execution_count": 15,
   "id": "3e66ae20",
   "metadata": {},
   "outputs": [
    {
     "data": {
      "text/plain": [
       "53424"
      ]
     },
     "execution_count": 15,
     "metadata": {},
     "output_type": "execute_result"
    }
   ],
   "source": [
    "df2.user_id.nunique()"
   ]
  },
  {
   "cell_type": "code",
   "execution_count": 16,
   "id": "e4fdd989",
   "metadata": {},
   "outputs": [
    {
     "data": {
      "text/plain": [
       "2209"
      ]
     },
     "execution_count": 16,
     "metadata": {},
     "output_type": "execute_result"
    }
   ],
   "source": [
    "sum(df2.groupby([\"book_id\",\"user_id\"]).count()[\"rating\"]>1)"
   ]
  },
  {
   "cell_type": "code",
   "execution_count": 17,
   "id": "c6a38efa",
   "metadata": {},
   "outputs": [],
   "source": [
    "df2.drop_duplicates(subset=[\"book_id\",\"user_id\"],keep=\"last\",inplace=True)\n",
    "df1.reset_index(drop=True,inplace=True)"
   ]
  },
  {
   "cell_type": "code",
   "execution_count": 18,
   "id": "71347b05",
   "metadata": {},
   "outputs": [
    {
     "data": {
      "text/plain": [
       "979478"
      ]
     },
     "execution_count": 18,
     "metadata": {},
     "output_type": "execute_result"
    }
   ],
   "source": [
    "df2.book_id.count()"
   ]
  },
  {
   "cell_type": "code",
   "execution_count": 19,
   "id": "da578ad2",
   "metadata": {},
   "outputs": [
    {
     "data": {
      "text/plain": [
       "10000"
      ]
     },
     "execution_count": 19,
     "metadata": {},
     "output_type": "execute_result"
    }
   ],
   "source": [
    "df2[\"book_id\"].max()"
   ]
  },
  {
   "cell_type": "code",
   "execution_count": 20,
   "id": "6bbf52cb",
   "metadata": {},
   "outputs": [],
   "source": [
    "df_final=pd.merge(df2,df1,on=\"book_id\",how=\"outer\")"
   ]
  },
  {
   "cell_type": "code",
   "execution_count": 21,
   "id": "48c0f1a4",
   "metadata": {},
   "outputs": [],
   "source": [
    "df_final.dropna(inplace=True,subset=[\"book_id\",\"user_id\",\"rating\",\"title\"])"
   ]
  },
  {
   "cell_type": "code",
   "execution_count": 22,
   "id": "7e7ac5d4",
   "metadata": {},
   "outputs": [
    {
     "data": {
      "text/html": [
       "<div>\n",
       "<style scoped>\n",
       "    .dataframe tbody tr th:only-of-type {\n",
       "        vertical-align: middle;\n",
       "    }\n",
       "\n",
       "    .dataframe tbody tr th {\n",
       "        vertical-align: top;\n",
       "    }\n",
       "\n",
       "    .dataframe thead th {\n",
       "        text-align: right;\n",
       "    }\n",
       "</style>\n",
       "<table border=\"1\" class=\"dataframe\">\n",
       "  <thead>\n",
       "    <tr style=\"text-align: right;\">\n",
       "      <th></th>\n",
       "      <th>book_id</th>\n",
       "      <th>user_id</th>\n",
       "      <th>rating</th>\n",
       "      <th>title</th>\n",
       "      <th>year</th>\n",
       "      <th>author</th>\n",
       "    </tr>\n",
       "  </thead>\n",
       "  <tbody>\n",
       "    <tr>\n",
       "      <th>0</th>\n",
       "      <td>1</td>\n",
       "      <td>314</td>\n",
       "      <td>5</td>\n",
       "      <td>The Hunger Games</td>\n",
       "      <td>2008.0</td>\n",
       "      <td>Suzanne Collins</td>\n",
       "    </tr>\n",
       "    <tr>\n",
       "      <th>1</th>\n",
       "      <td>1</td>\n",
       "      <td>439</td>\n",
       "      <td>3</td>\n",
       "      <td>The Hunger Games</td>\n",
       "      <td>2008.0</td>\n",
       "      <td>Suzanne Collins</td>\n",
       "    </tr>\n",
       "    <tr>\n",
       "      <th>2</th>\n",
       "      <td>1</td>\n",
       "      <td>588</td>\n",
       "      <td>5</td>\n",
       "      <td>The Hunger Games</td>\n",
       "      <td>2008.0</td>\n",
       "      <td>Suzanne Collins</td>\n",
       "    </tr>\n",
       "    <tr>\n",
       "      <th>3</th>\n",
       "      <td>1</td>\n",
       "      <td>1169</td>\n",
       "      <td>4</td>\n",
       "      <td>The Hunger Games</td>\n",
       "      <td>2008.0</td>\n",
       "      <td>Suzanne Collins</td>\n",
       "    </tr>\n",
       "    <tr>\n",
       "      <th>4</th>\n",
       "      <td>1</td>\n",
       "      <td>1185</td>\n",
       "      <td>4</td>\n",
       "      <td>The Hunger Games</td>\n",
       "      <td>2008.0</td>\n",
       "      <td>Suzanne Collins</td>\n",
       "    </tr>\n",
       "  </tbody>\n",
       "</table>\n",
       "</div>"
      ],
      "text/plain": [
       "   book_id  user_id  rating             title    year           author\n",
       "0        1      314       5  The Hunger Games  2008.0  Suzanne Collins\n",
       "1        1      439       3  The Hunger Games  2008.0  Suzanne Collins\n",
       "2        1      588       5  The Hunger Games  2008.0  Suzanne Collins\n",
       "3        1     1169       4  The Hunger Games  2008.0  Suzanne Collins\n",
       "4        1     1185       4  The Hunger Games  2008.0  Suzanne Collins"
      ]
     },
     "execution_count": 22,
     "metadata": {},
     "output_type": "execute_result"
    }
   ],
   "source": [
    "df_final.head()"
   ]
  },
  {
   "cell_type": "code",
   "execution_count": 23,
   "id": "bfda87de",
   "metadata": {},
   "outputs": [],
   "source": [
    "df_final[\"user_id\"]=df_final[\"user_id\"].astype(int)\n",
    "df_final[\"book_id\"]=df_final[\"book_id\"].astype(int)"
   ]
  },
  {
   "cell_type": "code",
   "execution_count": 24,
   "id": "d2e7d5bf",
   "metadata": {},
   "outputs": [],
   "source": [
    "df_final[[\"book_id\",\"user_id\"]]=df_final.iloc[:,:2].iloc[:,::-1]"
   ]
  },
  {
   "cell_type": "code",
   "execution_count": 25,
   "id": "a78ebec6",
   "metadata": {},
   "outputs": [],
   "source": [
    "df_final=df_final.rename(columns={\"book_id\":\"user_id\",\"user_id\":\"book_id\"})"
   ]
  },
  {
   "cell_type": "code",
   "execution_count": 26,
   "id": "02c18e42",
   "metadata": {},
   "outputs": [
    {
     "data": {
      "text/html": [
       "<div>\n",
       "<style scoped>\n",
       "    .dataframe tbody tr th:only-of-type {\n",
       "        vertical-align: middle;\n",
       "    }\n",
       "\n",
       "    .dataframe tbody tr th {\n",
       "        vertical-align: top;\n",
       "    }\n",
       "\n",
       "    .dataframe thead th {\n",
       "        text-align: right;\n",
       "    }\n",
       "</style>\n",
       "<table border=\"1\" class=\"dataframe\">\n",
       "  <thead>\n",
       "    <tr style=\"text-align: right;\">\n",
       "      <th></th>\n",
       "      <th>user_id</th>\n",
       "      <th>book_id</th>\n",
       "      <th>rating</th>\n",
       "      <th>title</th>\n",
       "      <th>year</th>\n",
       "      <th>author</th>\n",
       "    </tr>\n",
       "  </thead>\n",
       "  <tbody>\n",
       "    <tr>\n",
       "      <th>0</th>\n",
       "      <td>314</td>\n",
       "      <td>1</td>\n",
       "      <td>5</td>\n",
       "      <td>The Hunger Games</td>\n",
       "      <td>2008.0</td>\n",
       "      <td>Suzanne Collins</td>\n",
       "    </tr>\n",
       "    <tr>\n",
       "      <th>1</th>\n",
       "      <td>439</td>\n",
       "      <td>1</td>\n",
       "      <td>3</td>\n",
       "      <td>The Hunger Games</td>\n",
       "      <td>2008.0</td>\n",
       "      <td>Suzanne Collins</td>\n",
       "    </tr>\n",
       "    <tr>\n",
       "      <th>2</th>\n",
       "      <td>588</td>\n",
       "      <td>1</td>\n",
       "      <td>5</td>\n",
       "      <td>The Hunger Games</td>\n",
       "      <td>2008.0</td>\n",
       "      <td>Suzanne Collins</td>\n",
       "    </tr>\n",
       "    <tr>\n",
       "      <th>3</th>\n",
       "      <td>1169</td>\n",
       "      <td>1</td>\n",
       "      <td>4</td>\n",
       "      <td>The Hunger Games</td>\n",
       "      <td>2008.0</td>\n",
       "      <td>Suzanne Collins</td>\n",
       "    </tr>\n",
       "    <tr>\n",
       "      <th>4</th>\n",
       "      <td>1185</td>\n",
       "      <td>1</td>\n",
       "      <td>4</td>\n",
       "      <td>The Hunger Games</td>\n",
       "      <td>2008.0</td>\n",
       "      <td>Suzanne Collins</td>\n",
       "    </tr>\n",
       "    <tr>\n",
       "      <th>...</th>\n",
       "      <td>...</td>\n",
       "      <td>...</td>\n",
       "      <td>...</td>\n",
       "      <td>...</td>\n",
       "      <td>...</td>\n",
       "      <td>...</td>\n",
       "    </tr>\n",
       "    <tr>\n",
       "      <th>979473</th>\n",
       "      <td>48386</td>\n",
       "      <td>10000</td>\n",
       "      <td>5</td>\n",
       "      <td>The First World War</td>\n",
       "      <td>1998.0</td>\n",
       "      <td>John Keegan</td>\n",
       "    </tr>\n",
       "    <tr>\n",
       "      <th>979474</th>\n",
       "      <td>49007</td>\n",
       "      <td>10000</td>\n",
       "      <td>4</td>\n",
       "      <td>The First World War</td>\n",
       "      <td>1998.0</td>\n",
       "      <td>John Keegan</td>\n",
       "    </tr>\n",
       "    <tr>\n",
       "      <th>979475</th>\n",
       "      <td>49383</td>\n",
       "      <td>10000</td>\n",
       "      <td>5</td>\n",
       "      <td>The First World War</td>\n",
       "      <td>1998.0</td>\n",
       "      <td>John Keegan</td>\n",
       "    </tr>\n",
       "    <tr>\n",
       "      <th>979476</th>\n",
       "      <td>50124</td>\n",
       "      <td>10000</td>\n",
       "      <td>5</td>\n",
       "      <td>The First World War</td>\n",
       "      <td>1998.0</td>\n",
       "      <td>John Keegan</td>\n",
       "    </tr>\n",
       "    <tr>\n",
       "      <th>979477</th>\n",
       "      <td>51328</td>\n",
       "      <td>10000</td>\n",
       "      <td>1</td>\n",
       "      <td>The First World War</td>\n",
       "      <td>1998.0</td>\n",
       "      <td>John Keegan</td>\n",
       "    </tr>\n",
       "  </tbody>\n",
       "</table>\n",
       "<p>910035 rows × 6 columns</p>\n",
       "</div>"
      ],
      "text/plain": [
       "        user_id  book_id  rating                title    year           author\n",
       "0           314        1       5     The Hunger Games  2008.0  Suzanne Collins\n",
       "1           439        1       3     The Hunger Games  2008.0  Suzanne Collins\n",
       "2           588        1       5     The Hunger Games  2008.0  Suzanne Collins\n",
       "3          1169        1       4     The Hunger Games  2008.0  Suzanne Collins\n",
       "4          1185        1       4     The Hunger Games  2008.0  Suzanne Collins\n",
       "...         ...      ...     ...                  ...     ...              ...\n",
       "979473    48386    10000       5  The First World War  1998.0      John Keegan\n",
       "979474    49007    10000       4  The First World War  1998.0      John Keegan\n",
       "979475    49383    10000       5  The First World War  1998.0      John Keegan\n",
       "979476    50124    10000       5  The First World War  1998.0      John Keegan\n",
       "979477    51328    10000       1  The First World War  1998.0      John Keegan\n",
       "\n",
       "[910035 rows x 6 columns]"
      ]
     },
     "execution_count": 26,
     "metadata": {},
     "output_type": "execute_result"
    }
   ],
   "source": [
    "df_final"
   ]
  },
  {
   "cell_type": "code",
   "execution_count": 27,
   "id": "25472bd0",
   "metadata": {},
   "outputs": [
    {
     "data": {
      "text/plain": [
       "10000"
      ]
     },
     "execution_count": 27,
     "metadata": {},
     "output_type": "execute_result"
    }
   ],
   "source": [
    "df_final[\"book_id\"].max()"
   ]
  },
  {
   "cell_type": "markdown",
   "id": "b21d0a11",
   "metadata": {},
   "source": [
    "# Recommender system"
   ]
  },
  {
   "cell_type": "code",
   "execution_count": 43,
   "id": "d88f720b",
   "metadata": {},
   "outputs": [],
   "source": [
    "from surprise import SVD,SVDpp,KNNBaseline,BaselineOnly\n",
    "from surprise import Reader,Dataset\n",
    "from surprise.model_selection import GridSearchCV,cross_validate,train_test_split\n",
    "from surprise.accuracy import rmse"
   ]
  },
  {
   "cell_type": "code",
   "execution_count": 33,
   "id": "fa17f63e",
   "metadata": {},
   "outputs": [],
   "source": [
    "temp_df=df_final.sample(100000)\n",
    "reader=Reader(rating_scale=(1,5))\n",
    "data=Dataset.load_from_df(temp_df.iloc[:,0:3],reader)"
   ]
  },
  {
   "cell_type": "code",
   "execution_count": 34,
   "id": "af03baa6",
   "metadata": {},
   "outputs": [
    {
     "name": "stdout",
     "output_type": "stream",
     "text": [
      "Evaluating RMSE of algorithm SVD on 3 split(s).\n",
      "\n",
      "                  Fold 1  Fold 2  Fold 3  Mean    Std     \n",
      "RMSE (testset)    0.9289  0.9201  0.9260  0.9250  0.0037  \n",
      "Fit time          3.76    3.57    3.45    3.59    0.13    \n",
      "Test time         0.33    0.22    0.29    0.28    0.05    \n",
      "Estimating biases using als...\n",
      "Computing the msd similarity matrix...\n",
      "Done computing similarity matrix.\n",
      "Estimating biases using als...\n",
      "Computing the msd similarity matrix...\n",
      "Done computing similarity matrix.\n",
      "Estimating biases using als...\n",
      "Computing the msd similarity matrix...\n",
      "Done computing similarity matrix.\n",
      "Evaluating RMSE of algorithm KNNBaseline on 3 split(s).\n",
      "\n",
      "                  Fold 1  Fold 2  Fold 3  Mean    Std     \n",
      "RMSE (testset)    0.9554  0.9575  0.9574  0.9568  0.0010  \n",
      "Fit time          34.69   35.49   34.39   34.86   0.47    \n",
      "Test time         1.08    1.08    1.08    1.08    0.00    \n",
      "Estimating biases using als...\n",
      "Estimating biases using als...\n",
      "Estimating biases using als...\n",
      "Evaluating RMSE of algorithm BaselineOnly on 3 split(s).\n",
      "\n",
      "                  Fold 1  Fold 2  Fold 3  Mean    Std     \n",
      "RMSE (testset)    0.9280  0.9304  0.9317  0.9300  0.0016  \n",
      "Fit time          0.28    0.28    0.31    0.29    0.01    \n",
      "Test time         0.28    0.18    0.16    0.21    0.05    \n",
      "Evaluating RMSE of algorithm SVDpp on 3 split(s).\n",
      "\n",
      "                  Fold 1  Fold 2  Fold 3  Mean    Std     \n",
      "RMSE (testset)    0.9208  0.9174  0.9152  0.9178  0.0023  \n",
      "Fit time          10.63   9.53    9.27    9.81    0.59    \n",
      "Test time         0.52    0.50    0.50    0.51    0.01    \n"
     ]
    }
   ],
   "source": [
    "algo_list=[SVD(),KNNBaseline(),BaselineOnly(),SVDpp()]\n",
    "for algo in algo_list:\n",
    "    cross_validate(algo,data,cv=3,measures=[\"rmse\"],verbose=True)"
   ]
  },
  {
   "cell_type": "code",
   "execution_count": 35,
   "id": "8477ef44",
   "metadata": {},
   "outputs": [],
   "source": [
    "# By rmse svdpp is best but fit time is very high. so i am going to use svd"
   ]
  },
  {
   "cell_type": "code",
   "execution_count": 36,
   "id": "2ece09a5",
   "metadata": {},
   "outputs": [],
   "source": [
    "param_grid = {'n_factors':[50,100],'n_epochs':[20,30],  'lr_all':[0.005,0.01],'reg_all':[0.02,0.1]}\n",
    "svd = GridSearchCV(SVD,param_grid, measures = ['rmse'], cv = 3)\n",
    "svd.fit(data)"
   ]
  },
  {
   "cell_type": "code",
   "execution_count": 37,
   "id": "a321e270",
   "metadata": {},
   "outputs": [
    {
     "data": {
      "text/plain": [
       "{'rmse': {'n_factors': 50, 'n_epochs': 20, 'lr_all': 0.01, 'reg_all': 0.1}}"
      ]
     },
     "execution_count": 37,
     "metadata": {},
     "output_type": "execute_result"
    }
   ],
   "source": [
    "svd.best_params"
   ]
  },
  {
   "cell_type": "code",
   "execution_count": 38,
   "id": "574ccedb",
   "metadata": {},
   "outputs": [],
   "source": [
    "reader=Reader(rating_scale=(1,5))\n",
    "data=Dataset.load_from_df(df_final.iloc[:,0:3],reader)"
   ]
  },
  {
   "cell_type": "code",
   "execution_count": 39,
   "id": "33105774",
   "metadata": {},
   "outputs": [],
   "source": [
    "model=SVD(n_factors=50,n_epochs=20,lr_all=0.01,reg_all=0.1)"
   ]
  },
  {
   "cell_type": "code",
   "execution_count": 40,
   "id": "707196ce",
   "metadata": {},
   "outputs": [],
   "source": [
    "trainset,testset=train_test_split(data,test_size=0.3)"
   ]
  },
  {
   "cell_type": "code",
   "execution_count": 41,
   "id": "cc9898d5",
   "metadata": {},
   "outputs": [
    {
     "data": {
      "text/plain": [
       "<surprise.prediction_algorithms.matrix_factorization.SVD at 0x1fe269a1910>"
      ]
     },
     "execution_count": 41,
     "metadata": {},
     "output_type": "execute_result"
    }
   ],
   "source": [
    "model.fit(trainset)"
   ]
  },
  {
   "cell_type": "code",
   "execution_count": 42,
   "id": "488084ca",
   "metadata": {},
   "outputs": [
    {
     "name": "stdout",
     "output_type": "stream",
     "text": [
      "RMSE: 0.8359\n",
      "0.8358676084822293\n"
     ]
    }
   ],
   "source": [
    "predict_test=model.test(testset)\n",
    "print(rmse(predict_test))"
   ]
  },
  {
   "cell_type": "code",
   "execution_count": 44,
   "id": "9ad7c1de",
   "metadata": {},
   "outputs": [],
   "source": [
    "from collections import defaultdict\n",
    "def prediction(user_id):\n",
    "    book_pr=df_final[df_final[\"user_id\"]==user_id][\"book_id\"].unique()\n",
    "    books=df_final[\"book_id\"].unique()\n",
    "    not_rated_book=[]\n",
    "    for i in books:\n",
    "        if(i not in book_pr):\n",
    "            not_rated_book.append(i)\n",
    "    answer_pred=[]\n",
    "    for i in not_rated_book:\n",
    "        temp3=model.predict(user_id,i)\n",
    "        answer_pred.append((i,temp3.est))\n",
    "    answer_pred=sorted(answer_pred,key=lambda x:x[1],reverse=True)\n",
    "    reading_list = defaultdict(list)\n",
    "    for i in answer_pred[:10]:\n",
    "        title = df1[df1[\"book_id\"]==i[0]][\"title\"].unique()[0]\n",
    "        reading_list[title] = i[1]\n",
    "    for book, ratings in reading_list.items():\n",
    "        print(f'{book}: {round(ratings,ndigits=2)}')"
   ]
  },
  {
   "cell_type": "code",
   "execution_count": 45,
   "id": "35d9d2fc",
   "metadata": {},
   "outputs": [
    {
     "name": "stdout",
     "output_type": "stream",
     "text": [
      "The Indispensable Calvin and Hobbes: A Calvin and Hobbes Treasury: 4.34\n",
      "The Calvin and Hobbes Tenth Anniversary Book: 4.33\n",
      "It's a Magical World: A Calvin and Hobbes Collection: 4.29\n",
      "Words of Radiance: 4.28\n",
      "Homicidal Psycho Jungle Cat: A Calvin and Hobbes Collection: 4.27\n",
      "Saga, Volume Two: 4.27\n",
      "Attack of the Deranged Mutant Killer Monster Snow Goons: A Calvin and Hobbes Collection: 4.25\n",
      "A Court of Mist and Fury: 4.23\n",
      "The Wise Man's Fear: 4.23\n",
      "There's Treasure Everywhere: A Calvin and Hobbes Collection: 4.23\n"
     ]
    }
   ],
   "source": [
    "prediction(1185)"
   ]
  },
  {
   "cell_type": "code",
   "execution_count": null,
   "id": "eca6fee7",
   "metadata": {},
   "outputs": [],
   "source": []
  }
 ],
 "metadata": {
  "kernelspec": {
   "display_name": "Python 3",
   "language": "python",
   "name": "python3"
  },
  "language_info": {
   "codemirror_mode": {
    "name": "ipython",
    "version": 3
   },
   "file_extension": ".py",
   "mimetype": "text/x-python",
   "name": "python",
   "nbconvert_exporter": "python",
   "pygments_lexer": "ipython3",
   "version": "3.8.8"
  }
 },
 "nbformat": 4,
 "nbformat_minor": 5
}
